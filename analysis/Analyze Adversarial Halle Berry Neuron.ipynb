{
 "cells": [
  {
   "cell_type": "code",
   "execution_count": 29,
   "metadata": {},
   "outputs": [
    {
     "name": "stdout",
     "output_type": "stream",
     "text": [
      "Building frame lookup for sparse pvp file\n",
      "Done\n"
     ]
    }
   ],
   "source": [
    "import pvtools as pv\n",
    "import numpy as np\n",
    "import matplotlib.pyplot as plt\n",
    "# data_train = pv.readpvpfile('/home/jspringer/Workspace/LCAHalleBerry/output-training-hb/P1.pvp')\n",
    "data_benign = pv.readpvpfile('/home/jspringer/Workspace/LCAHalleBerry/output-benign-hb-labeled/P1.pvp')\n",
    "# data_adversarial = pv.readpvpfile('/home/jspringer/Workspace/LCAHalleBerry/output-adversarial-hb/P1.pvp')\n",
    "# data_noisy = pv.readpvpfile('/home/jspringer/Workspace/LCAHalleBerry/output-noisy-hb/P1.pvp')\n",
    "\n",
    "# X_train = data_train['values'].toarray()\n",
    "X_benign = data_benign['values'].toarray()\n",
    "# X_adversarial = data_adversarial['values'].toarray()\n",
    "# X_noisy = data_noisy['values'].toarray()\n",
    "\n",
    "# inputvision_lines_tra = open('/home/jspringer/Workspace/LCAHalleBerry/output-training-hb/timestamps/InputVision.txt').readlines()\n",
    "# Y_train = np.array([1 if 'Halle' in line else 0 for line in inputvision_lines_tra])\n",
    "\n",
    "inputvision_lines_ben = open('/home/jspringer/Workspace/LCAHalleBerry/output-benign-hb/timestamps/InputVision.txt').readlines()\n",
    "Y_benign = np.array([int(line.split('/')[-2])-1 for line in inputvision_lines_ben])\n",
    "\n",
    "# inputvision_lines_adv = open('/home/jspringer/Workspace/LCAHalleBerry/output-adversarial-hb/timestamps/InputVision.txt').readlines()\n",
    "# Y_adversarial = np.array([int(line.split('/')[-2])-1 for line in inputvision_lines_adv])\n",
    "\n",
    "# inputvision_lines_noi = open('/home/jspringer/Workspace/LCAHalleBerry/output-noisy-hb/timestamps/InputVision.txt').readlines()\n",
    "# Y_noisy = np.array([int(line.split('/')[-2])-1 for line in inputvision_lines_noi])"
   ]
  },
  {
   "cell_type": "code",
   "execution_count": 78,
   "metadata": {},
   "outputs": [
    {
     "name": "stdout",
     "output_type": "stream",
     "text": [
      "             precision    recall  f1-score   support\n",
      "\n",
      "          0       0.96      0.98      0.97        53\n",
      "          1       0.50      0.33      0.40         3\n",
      "\n",
      "avg / total       0.94      0.95      0.94        56\n",
      "\n"
     ]
    }
   ],
   "source": [
    "from sklearn.linear_model import Perceptron\n",
    "from sklearn.svm import SVC\n",
    "from sklearn.neural_network import MLPClassifier\n",
    "from sklearn.metrics import mean_squared_error, r2_score, accuracy_score, confusion_matrix\n",
    "from sklearn.model_selection import train_test_split\n",
    "from sklearn.metrics import classification_report, confusion_matrix\n",
    "import seaborn as sn\n",
    "import pandas as pd\n",
    "\n",
    "X_t, X_test, y_t, y_test = train_test_split(X_train[:5592], Y_train[:5592], test_size=0.01, random_state=123)\n",
    "\n",
    "model = Perceptron(class_weight='balanced', max_iter=1000, tol=None)\n",
    "model.fit(X_t, y_t)\n",
    "pred = model.predict(X_test)\n",
    "print(classification_report(y_test, pred))"
   ]
  },
  {
   "cell_type": "code",
   "execution_count": 79,
   "metadata": {},
   "outputs": [
    {
     "name": "stdout",
     "output_type": "stream",
     "text": [
      "benign\n",
      "             precision    recall  f1-score   support\n",
      "\n",
      "          0       0.00      0.00      0.00         0\n",
      "          1       1.00      0.69      0.82        75\n",
      "\n",
      "avg / total       1.00      0.69      0.82        75\n",
      "\n",
      "adversarial\n",
      "             precision    recall  f1-score   support\n",
      "\n",
      "          0       0.00      0.00      0.00         0\n",
      "          1       1.00      0.67      0.80        75\n",
      "\n",
      "avg / total       1.00      0.67      0.80        75\n",
      "\n",
      "noisy\n",
      "             precision    recall  f1-score   support\n",
      "\n",
      "          0       0.00      0.00      0.00         0\n",
      "          1       1.00      0.68      0.81        75\n",
      "\n",
      "avg / total       1.00      0.68      0.81        75\n",
      "\n"
     ]
    },
    {
     "name": "stderr",
     "output_type": "stream",
     "text": [
      "/home/jspringer/Workspace/ml/lib/python3.5/site-packages/sklearn/metrics/classification.py:1137: UndefinedMetricWarning: Recall and F-score are ill-defined and being set to 0.0 in labels with no true samples.\n",
      "  'recall', 'true', average, warn_for)\n"
     ]
    }
   ],
   "source": [
    "Y_pred_benign = model.predict(X_benign)\n",
    "Y_pred_adversarial = model.predict(X_adversarial)\n",
    "Y_pred_noisy = model.predict(X_noisy)\n",
    "print('benign')\n",
    "print(classification_report(Y_benign, Y_pred_benign))\n",
    "print('adversarial')\n",
    "print(classification_report(Y_adversarial, Y_pred_adversarial))\n",
    "print('noisy')\n",
    "print(classification_report(Y_noisy, Y_pred_noisy))"
   ]
  },
  {
   "cell_type": "code",
   "execution_count": 30,
   "metadata": {},
   "outputs": [
    {
     "data": {
      "text/plain": [
       "array([0.1 , 0.16, 0.11, 0.09, 0.07, 0.1 , 0.1 , 0.15, 0.11, 0.1 , 0.14,\n",
       "       0.13, 0.16, 0.16, 0.18, 0.22, 0.16, 0.23, 0.18, 0.15, 0.22, 0.21,\n",
       "       0.11, 0.2 , 0.2 , 0.1 , 0.17, 0.33, 0.2 , 0.13, 0.29, 0.2 , 0.16,\n",
       "       0.17, 0.11, 0.24, 0.19, 0.21, 0.13, 0.15, 0.17, 0.19, 0.26, 0.17,\n",
       "       0.21, 0.29, 0.23, 0.15, 0.18, 0.24, 0.14, 0.12, 0.2 , 0.17, 0.18,\n",
       "       0.14, 0.25, 0.26, 0.25, 0.22, 0.19, 0.09, 0.07, 0.3 , 0.2 , 0.23,\n",
       "       0.31, 0.09, 0.37, 0.19, 0.31, 0.13, 0.25, 0.14, 0.43],\n",
       "      dtype=float32)"
      ]
     },
     "execution_count": 30,
     "metadata": {},
     "output_type": "execute_result"
    }
   ],
   "source": [
    "np.round(X_benign[:, 326] * 100) / 100"
   ]
  },
  {
   "cell_type": "code",
   "execution_count": 23,
   "metadata": {},
   "outputs": [
    {
     "data": {
      "text/plain": [
       "0.72"
      ]
     },
     "execution_count": 23,
     "metadata": {},
     "output_type": "execute_result"
    }
   ],
   "source": [
    "sum(np.sign(X_benign[:, 326])) / len(X_benign)"
   ]
  },
  {
   "cell_type": "code",
   "execution_count": 67,
   "metadata": {},
   "outputs": [
    {
     "name": "stdout",
     "output_type": "stream",
     "text": [
      "Building frame lookup for sparse pvp file\n",
      "Done\n",
      "Building frame lookup for sparse pvp file\n",
      "Done\n",
      "Building frame lookup for sparse pvp file\n",
      "Done\n",
      "Building frame lookup for sparse pvp file\n",
      "Done\n",
      "Building frame lookup for sparse pvp file\n",
      "Done\n"
     ]
    },
    {
     "data": {
      "text/plain": [
       "Text(0,0.5,'Activation')"
      ]
     },
     "execution_count": 67,
     "metadata": {},
     "output_type": "execute_result"
    },
    {
     "data": {
      "image/png": "[encoded data removed]",
      "text/plain": [
       "<Figure size 432x288 with 1 Axes>"
      ]
     },
     "metadata": {},
     "output_type": "display_data"
    }
   ],
   "source": [
    "data_unlabeled_long = pv.readpvpfile('/home/jspringer/Workspace/LCAHalleBerry/output-benign-hb-unlabeled/P1.pvp')\n",
    "data_labeled = pv.readpvpfile('/home/jspringer/Workspace/LCAHalleBerry/output-benign-hb-labeled/P1.pvp')\n",
    "data_unlabeled = pv.readpvpfile('/home/jspringer/Workspace/LCAHalleBerry/output-benign-hb-unlabeled-2/P1.pvp')\n",
    "data_vision = pv.readpvpfile('/home/jspringer/Workspace/LCAHalleBerry/output-benign-hb-vision/P1.pvp')\n",
    "\n",
    "X_labeled = data_labeled['values'].toarray()\n",
    "X_unlabeled_long = data_unlabeled_long['values'].toarray()\n",
    "X_unlabeled = data_unlabeled['values'].toarray()\n",
    "X_vision = data_vision['values'].toarray()\n",
    "\n",
    "data_unlabeled_nhb = pv.readpvpfile('/home/jspringer/Workspace/LCAHalleBerry/output-benign-nhb-unlabeled/P1.pvp')\n",
    "X_unlabeled_nhb = data_unlabeled['values'].toarray()\n",
    "\n",
    "plt.bar(np.arange(len(X_labeled)), sorted(X_labeled[:, 326]))\n",
    "plt.bar(np.arange(len(X_vision)), sorted(X_vision[:, 326]))\n",
    "# plt.bar(np.arange(len(X_unlabeled_long)), sorted(X_unlabeled_long[:, 326]))\n",
    "# plt.bar(np.arange(len(X_unlabeled)), sorted(X_unlabeled[:, 326]))\n",
    "plt.bar(np.arange(len(X_unlabeled_nhb)), sorted(X_unlabeled_nhb[:, 326]))\n",
    "\n",
    "plt.title('Sorted N-326 activation')\n",
    "plt.xlabel('Image')\n",
    "plt.ylabel('Activation')"
   ]
  },
  {
   "cell_type": "code",
   "execution_count": 62,
   "metadata": {},
   "outputs": [
    {
     "name": "stdout",
     "output_type": "stream",
     "text": [
      "Building frame lookup for sparse pvp file\n",
      "Done\n"
     ]
    },
    {
     "data": {
      "text/plain": [
       "<BarContainer object of 75 artists>"
      ]
     },
     "execution_count": 62,
     "metadata": {},
     "output_type": "execute_result"
    },
    {
     "data": {
      "image/png": "[encoded data removed]",
      "text/plain": [
       "<Figure size 432x288 with 1 Axes>"
      ]
     },
     "metadata": {},
     "output_type": "display_data"
    }
   ],
   "source": []
  },
  {
   "cell_type": "code",
   "execution_count": null,
   "metadata": {},
   "outputs": [],
   "source": []
  }
 ],
 "metadata": {
  "kernelspec": {
   "display_name": "Python 3.5 (ml)",
   "language": "python",
   "name": "myenv"
  },
  "language_info": {
   "codemirror_mode": {
    "name": "ipython",
    "version": 3
   },
   "file_extension": ".py",
   "mimetype": "text/x-python",
   "name": "python",
   "nbconvert_exporter": "python",
   "pygments_lexer": "ipython3",
   "version": "3.5.2"
  }
 },
 "nbformat": 4,
 "nbformat_minor": 2
}
