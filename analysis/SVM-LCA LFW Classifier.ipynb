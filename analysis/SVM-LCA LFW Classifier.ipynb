{
 "cells": [
  {
   "cell_type": "code",
   "execution_count": 1,
   "metadata": {},
   "outputs": [],
   "source": [
    "%matplotlib inline"
   ]
  },
  {
   "cell_type": "code",
   "execution_count": 2,
   "metadata": {},
   "outputs": [
    {
     "name": "stdout",
     "output_type": "stream",
     "text": [
      "Building frame lookup for sparse pvp file\n",
      "Done\n",
      "Building frame lookup for sparse pvp file\n",
      "Done\n",
      "Building frame lookup for sparse pvp file\n",
      "Done\n",
      "Building frame lookup for sparse pvp file\n",
      "Done\n"
     ]
    }
   ],
   "source": [
    "# Training\n",
    "\n",
    "import pvtools as pv\n",
    "import numpy as np\n",
    "import matplotlib.pyplot as plt\n",
    "data = pv.readpvpfile('/home/jspringer/Workspace/LCAHalleBerry/output-training-lfw/P1.pvp')\n",
    "data_adv = pv.readpvpfile('/home/jspringer/Workspace/LCAHalleBerry/output-adversarial-lfw/P1.pvp')\n",
    "data_ben = pv.readpvpfile('/home/jspringer/Workspace/LCAHalleBerry/output-benign-lfw/P1.pvp')\n",
    "data_noi = pv.readpvpfile('/home/jspringer/Workspace/LCAHalleBerry/output-noisy-lfw/P1.pvp')\n",
    "X = data['values'].toarray()\n",
    "X_adversarial = data_adv['values'].toarray()\n",
    "X_benign = data_ben['values'].toarray()\n",
    "X_noisy = data_noi['values'].toarray()\n",
    "\n",
    "inputvision_lines = open('/home/jspringer/Workspace/LCAHalleBerry/output-training-lfw/timestamps/InputVision.txt').readlines()\n",
    "Y = np.array([int(line.split('/')[-2])-1 for line in inputvision_lines])\n",
    "\n",
    "inputvision_lines_adv = open('/home/jspringer/Workspace/LCAHalleBerry/output-adversarial-lfw/timestamps/InputVision.txt').readlines()\n",
    "Y_adversarial = np.array([int(line.split('/')[-2])-1 for line in inputvision_lines_adv])\n",
    "\n",
    "inputvision_lines_ben = open('/home/jspringer/Workspace/LCAHalleBerry/output-benign-lfw/timestamps/InputVision.txt').readlines()\n",
    "Y_benign = np.array([int(line.split('/')[-2])-1 for line in inputvision_lines_ben])\n",
    "\n",
    "inputvision_lines_noi = open('/home/jspringer/Workspace/LCAHalleBerry/output-noisy-lfw/timestamps/InputVision.txt').readlines()\n",
    "Y_noisy = np.array([int(line.split('/')[-2])-1 for line in inputvision_lines_noi])"
   ]
  },
  {
   "cell_type": "code",
   "execution_count": 3,
   "metadata": {},
   "outputs": [
    {
     "data": {
      "text/plain": [
       "Perceptron(alpha=0.0001, class_weight='balanced', eta0=1.0,\n",
       "      fit_intercept=True, max_iter=1000, n_iter=None, n_jobs=1,\n",
       "      penalty=None, random_state=0, shuffle=True, tol=None, verbose=0,\n",
       "      warm_start=False)"
      ]
     },
     "execution_count": 3,
     "metadata": {},
     "output_type": "execute_result"
    }
   ],
   "source": [
    "from sklearn.linear_model import Perceptron\n",
    "from sklearn.svm import SVC\n",
    "from sklearn.neural_network import MLPClassifier\n",
    "from sklearn.metrics import mean_squared_error, r2_score, accuracy_score, confusion_matrix\n",
    "from sklearn.model_selection import train_test_split\n",
    "from sklearn.metrics import classification_report, confusion_matrix\n",
    "import seaborn as sn\n",
    "import pandas as pd\n",
    "\n",
    "model = Perceptron(class_weight='balanced', max_iter=1000, tol=None)\n",
    "model.fit(X, Y)"
   ]
  },
  {
   "cell_type": "code",
   "execution_count": 4,
   "metadata": {
    "scrolled": true
   },
   "outputs": [
    {
     "name": "stdout",
     "output_type": "stream",
     "text": [
      "benign\n",
      "             precision    recall  f1-score   support\n",
      "\n",
      "          0       0.85      0.81      0.83       110\n",
      "          1       0.94      0.85      0.89        40\n",
      "          2       0.72      0.35      0.47        37\n",
      "          3       0.86      0.50      0.63        24\n",
      "          4       0.91      0.36      0.51        28\n",
      "          5       1.00      0.50      0.67        12\n",
      "          6       0.91      0.59      0.71        17\n",
      "          7       1.00      0.25      0.40        12\n",
      "          8       1.00      0.44      0.62         9\n",
      "          9       0.96      0.99      0.97      2375\n",
      "\n",
      "avg / total       0.95      0.95      0.95      2664\n",
      "\n",
      "adversarial\n",
      "             precision    recall  f1-score   support\n",
      "\n",
      "          0       0.88      0.80      0.84       110\n",
      "          1       0.92      0.85      0.88        40\n",
      "          2       0.71      0.32      0.44        37\n",
      "          3       0.85      0.46      0.59        24\n",
      "          4       0.91      0.36      0.51        28\n",
      "          5       1.00      0.50      0.67        12\n",
      "          6       0.91      0.59      0.71        17\n",
      "          7       1.00      0.25      0.40        12\n",
      "          8       1.00      0.33      0.50         9\n",
      "          9       0.96      0.99      0.97      2375\n",
      "\n",
      "avg / total       0.95      0.95      0.94      2664\n",
      "\n",
      "noisy\n",
      "             precision    recall  f1-score   support\n",
      "\n",
      "          0       0.87      0.80      0.83       110\n",
      "          1       0.92      0.82      0.87        40\n",
      "          2       0.71      0.32      0.44        37\n",
      "          3       0.85      0.46      0.59        24\n",
      "          4       0.91      0.36      0.51        28\n",
      "          5       1.00      0.50      0.67        12\n",
      "          6       0.91      0.59      0.71        17\n",
      "          7       1.00      0.25      0.40        12\n",
      "          8       1.00      0.33      0.50         9\n",
      "          9       0.96      0.99      0.97      2375\n",
      "\n",
      "avg / total       0.95      0.95      0.94      2664\n",
      "\n"
     ]
    }
   ],
   "source": [
    "Y_pred_benign = model.predict(X_benign)\n",
    "Y_pred_adversarial = model.predict(X_adversarial)\n",
    "Y_pred_noisy = model.predict(X_noisy)\n",
    "print('benign')\n",
    "print(classification_report(Y_benign, Y_pred_benign))\n",
    "print('adversarial')\n",
    "print(classification_report(Y_adversarial, Y_pred_adversarial))\n",
    "print('noisy')\n",
    "print(classification_report(Y_noisy, Y_pred_noisy))"
   ]
  },
  {
   "cell_type": "code",
   "execution_count": null,
   "metadata": {},
   "outputs": [],
   "source": []
  }
 ],
 "metadata": {
  "kernelspec": {
   "display_name": "Python 3.5 (ml)",
   "language": "python",
   "name": "myenv"
  },
  "language_info": {
   "codemirror_mode": {
    "name": "ipython",
    "version": 3
   },
   "file_extension": ".py",
   "mimetype": "text/x-python",
   "name": "python",
   "nbconvert_exporter": "python",
   "pygments_lexer": "ipython3",
   "version": "3.5.2"
  }
 },
 "nbformat": 4,
 "nbformat_minor": 2
}
