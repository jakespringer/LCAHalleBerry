{
 "cells": [
  {
   "cell_type": "code",
   "execution_count": 1,
   "metadata": {},
   "outputs": [],
   "source": [
    "import pvtools as pv\n",
    "import numpy as np\n",
    "import matplotlib.pyplot as plt\n",
    "\n",
    "data = pv.readpvpfile('/home/jspringer/Workspace/LCAHalleBerry/output-lfw/Checkpoints/Checkpoint01620000/P1ToInputVision_W.pvp')\n",
    "values = data['values']\n",
    "\n",
    "images = list(map(lambda x: x * 1 / (np.amax(x) + 1e-8), values[0][0]))\n",
    "for i in range(len(images)):\n",
    "    plt.imsave('/home/jspringer/Workspace/LCAHalleBerry/analysis/neurons/' + str(i) + '.png', images[i])"
   ]
  },
  {
   "cell_type": "code",
   "execution_count": null,
   "metadata": {},
   "outputs": [],
   "source": []
  }
 ],
 "metadata": {
  "kernelspec": {
   "display_name": "Python 3.5 (ml)",
   "language": "python",
   "name": "myenv"
  },
  "language_info": {
   "codemirror_mode": {
    "name": "ipython",
    "version": 3
   },
   "file_extension": ".py",
   "mimetype": "text/x-python",
   "name": "python",
   "nbconvert_exporter": "python",
   "pygments_lexer": "ipython3",
   "version": "3.5.2"
  }
 },
 "nbformat": 4,
 "nbformat_minor": 2
}
